{
 "cells": [
  {
   "cell_type": "code",
   "execution_count": null,
   "metadata": {},
   "outputs": [],
   "source": [
    "\n",
    "class FirstOrderTransientModel:\n",
    "    \"\"\"Class defining a first order implicit transient model\"\"\"\n",
    "\n",
    "    def __init__(self, grid, T, Told, rho, cp, dt):\n",
    "        \"\"\"Constructor\"\"\"\n",
    "        self._grid = grid\n",
    "        self._T = T\n",
    "        self._Told = Told\n",
    "        self._rho = rho\n",
    "        self._cp = cp\n",
    "        self._dt = dt\n",
    "\n",
    "    def add(self, coeffs):\n",
    "        \"\"\"Function to add transient term to coefficient arrays\"\"\"\n",
    "\n",
    "        # Calculate the transient term\n",
    "        \n",
    "        trans = (self._rho*self._cp*self._grid.vol)*((self._T[1:-1] - self._Told[1:-1])/self._dt)\n",
    "        \n",
    "        # Calculate the linearization coefficient\n",
    "        \n",
    "        coeffPt = (self._rho*self._cp*self._grid.vol)/self._dt\n",
    "        \n",
    "        # Add to coefficient arrays\n",
    "        \n",
    "        coeffs.accumulate_aP(coeffPt)\n",
    "        coeffs.accumulate_rP(trans)\n",
    "\n",
    "        return coeffs"
   ]
  }
 ],
 "metadata": {
  "kernelspec": {
   "display_name": "Python 3",
   "language": "python",
   "name": "python3"
  },
  "language_info": {
   "codemirror_mode": {
    "name": "ipython",
    "version": 3
   },
   "file_extension": ".py",
   "mimetype": "text/x-python",
   "name": "python",
   "nbconvert_exporter": "python",
   "pygments_lexer": "ipython3",
   "version": "3.8.5"
  }
 },
 "nbformat": 4,
 "nbformat_minor": 4
}
